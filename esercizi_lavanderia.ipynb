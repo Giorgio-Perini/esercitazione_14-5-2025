{
 "cells": [
  {
   "cell_type": "code",
   "execution_count": null,
   "id": "a69731e4",
   "metadata": {},
   "outputs": [],
   "source": [
    "# Esercizio 1: Apertura della porta della lavanderia\n",
    "codice_corretto = 232346\n",
    "codice_inserito = input(\"Inserisci il codice a 6 cifre: \")\n",
    "\n",
    "if len(codice_inserito) != 6:\n",
    "    print(\"Il codice deve essere composto da 6 cifre\")\n",
    "elif int(codice_inserito) != codice_corretto:\n",
    "    print(\"Codice errato\")\n",
    "else:\n",
    "    print(\"Porta aperta\")"
   ]
  },
  {
   "cell_type": "code",
   "execution_count": null,
   "id": "7cf41c1e",
   "metadata": {},
   "outputs": [],
   "source": [
    "# Esercizio 2: Apertura della porta con massimo tre tentativi\n",
    "codice_corretto = 232346\n",
    "tentativi = 0\n",
    "bloccato = False\n",
    "\n",
    "while tentativi < 3 and not bloccato:\n",
    "    codice_inserito = input(\"Inserisci il codice a 6 cifre: \")\n",
    "\n",
    "    if len(codice_inserito) != 6:\n",
    "        print(\"Il codice deve essere composto da 6 cifre\")\n",
    "    elif int(codice_inserito) != codice_corretto:\n",
    "        print(\"Codice errato\")\n",
    "        tentativi += 1\n",
    "    else:\n",
    "        print(\"Porta aperta\")\n",
    "        break\n",
    "else:\n",
    "    if tentativi == 3:\n",
    "        bloccato = True\n",
    "        print(\"Accesso bloccato. Troppi tentativi errati.\")"
   ]
  },
  {
   "cell_type": "code",
   "execution_count": null,
   "id": "78190344",
   "metadata": {},
   "outputs": [],
   "source": [
    "# Esercizio 3: Controllo del peso dei vestiti\n",
    "peso_totale = 0\n",
    "peso_massimo = 9000\n",
    "\n",
    "while True:\n",
    "    peso = int(input(\"Inserisci il peso del capo in grammi (0 per terminare): \"))\n",
    "\n",
    "    if peso == 0:\n",
    "        break\n",
    "    elif peso_totale + peso > peso_massimo:\n",
    "        print(\"Errore: peso massimo superato!\")\n",
    "    else:\n",
    "        peso_totale += peso\n",
    "\n",
    "print(\"Peso totale dei capi: {peso_totale / 1000} kg\")"
   ]
  },
  {
   "cell_type": "code",
   "execution_count": null,
   "id": "0b6c4ce6",
   "metadata": {},
   "outputs": [],
   "source": [
    "# Esercizio 4: Conversione di unità di misura\n",
    "\n",
    "def converti(valore_kg, tasso_conversione):\n",
    "    return round(valore_kg / tasso_conversione, 2)\n",
    "\n",
    "libbre = converti(8, 0.45)\n",
    "print(\"8 kg sono equivalenti a {libbre} libbre\")"
   ]
  },
  {
   "cell_type": "code",
   "execution_count": null,
   "id": "90661256",
   "metadata": {},
   "outputs": [],
   "source": [
    "# Esercizio 5: Calcolo del costo del lavaggio\n",
    "\n",
    "def calcola_costo(peso, temperatura):\n",
    "    if temperatura not in [40, 60, 90]:\n",
    "        return \"Temperatura non valida\"\n",
    "\n",
    "    if peso < 5:\n",
    "        if temperatura == 40:\n",
    "            return peso * 0.50\n",
    "        elif temperatura == 60:\n",
    "            return peso * 0.75\n",
    "        elif temperatura == 90:\n",
    "            return peso * 1.00\n",
    "    else:\n",
    "        if temperatura == 40:\n",
    "            return peso * 0.75\n",
    "        elif temperatura == 60:\n",
    "            return peso * 1.00\n",
    "        elif temperatura == 90:\n",
    "            return peso * 1.50\n",
    "\n",
    "costo = calcola_costo(6, 60)\n",
    "print(\"Il costo del lavaggio è: {costo} €\")"
   ]
  },
  {
   "cell_type": "code",
   "execution_count": null,
   "id": "35b14a1e",
   "metadata": {},
   "outputs": [],
   "source": [
    "# Esercizio 6: Calcolo del resto\n",
    "\n",
    "def calcola_resto(prezzo, banconota):\n",
    "    resto = banconota - prezzo\n",
    "    euro = int(resto)\n",
    "    centesimi = round((resto - euro) * 100)\n",
    "    return (euro, centesimi)\n",
    "\n",
    "resto = calcola_resto(7.55, 10)\n",
    "print(\"Il resto è: {resto[0]} euro e {resto[1]} centesimi\")"
   ]
  }
 ],
 "metadata": {
  "language_info": {
   "name": "python"
  }
 },
 "nbformat": 4,
 "nbformat_minor": 5
}
